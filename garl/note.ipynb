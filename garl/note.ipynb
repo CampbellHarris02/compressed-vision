{
 "cells": [
  {
   "cell_type": "markdown",
   "id": "a804ab25",
   "metadata": {},
   "source": []
  }
 ],
 "metadata": {
  "language_info": {
   "name": "python"
  }
 },
 "nbformat": 4,
 "nbformat_minor": 5
}
